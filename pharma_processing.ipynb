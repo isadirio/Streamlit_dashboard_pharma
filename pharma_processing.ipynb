{
  "nbformat": 4,
  "nbformat_minor": 0,
  "metadata": {
    "colab": {
      "provenance": []
    },
    "kernelspec": {
      "name": "python3",
      "display_name": "Python 3"
    },
    "language_info": {
      "name": "python"
    }
  },
  "cells": [
    {
      "cell_type": "code",
      "source": [
        "from google.colab import drive\n",
        "\n",
        "drive.mount('/content/drive')"
      ],
      "metadata": {
        "colab": {
          "base_uri": "https://localhost:8080/"
        },
        "id": "rbPmLUwHfJR0",
        "outputId": "8dd19ed1-4368-4773-9ace-d9f70567668b"
      },
      "execution_count": 4,
      "outputs": [
        {
          "output_type": "stream",
          "name": "stdout",
          "text": [
            "Mounted at /content/drive\n"
          ]
        }
      ]
    },
    {
      "cell_type": "code",
      "execution_count": 5,
      "metadata": {
        "colab": {
          "base_uri": "https://localhost:8080/"
        },
        "id": "IYACwrcwdYgg",
        "outputId": "af9daf21-6cbe-4547-ee33-2cb5897f386e"
      },
      "outputs": [
        {
          "output_type": "stream",
          "name": "stdout",
          "text": [
            "      datum  M01AB  M01AE  N02BA  N02BE  N05B  N05C   R03  R06  Year  Month  \\\n",
            "0  1/2/2014    0.0   3.67    3.4  32.40   7.0   0.0   0.0  2.0  2014      1   \n",
            "1  1/3/2014    8.0   4.00    4.4  50.60  16.0   0.0  20.0  4.0  2014      1   \n",
            "2  1/4/2014    2.0   1.00    6.5  61.85  10.0   0.0   9.0  1.0  2014      1   \n",
            "3  1/5/2014    4.0   3.00    7.0  41.10   8.0   0.0   3.0  0.0  2014      1   \n",
            "4  1/6/2014    5.0   1.00    4.5  21.70  16.0   2.0   6.0  2.0  2014      1   \n",
            "\n",
            "   Hour Weekday Name  \n",
            "0   248     Thursday  \n",
            "1   276       Friday  \n",
            "2   276     Saturday  \n",
            "3   276       Sunday  \n",
            "4   276       Monday  \n"
          ]
        }
      ],
      "source": [
        "#starting from Kaggle sales dataset daily (https://www.kaggle.com/datasets/milanzdravkovic/pharma-sales-data)\n",
        "\n",
        "import pandas as pd\n",
        "\n",
        "path = '/content/drive/MyDrive/pharma_sales/salesdaily.csv'\n",
        "data = pd.read_csv(path)\n",
        "print(data.head())"
      ]
    },
    {
      "cell_type": "code",
      "source": [
        "#add a city where it was sold\n",
        "import random\n",
        "\n",
        "it_cities = pd.read_csv('/content/drive/MyDrive/pharma_sales/it.csv')\n",
        "print(it_cities.head())"
      ],
      "metadata": {
        "colab": {
          "base_uri": "https://localhost:8080/"
        },
        "id": "hriPaLwNgGwY",
        "outputId": "48ff23f4-0be5-4895-8efb-a54063165993"
      },
      "execution_count": 16,
      "outputs": [
        {
          "output_type": "stream",
          "name": "stdout",
          "text": [
            "      city      lat      lng country iso2 admin_name  capital  population  \\\n",
            "0     Rome  41.8933  12.4828   Italy   IT      Lazio  primary     2748109   \n",
            "1    Milan  45.4669   9.1900   Italy   IT   Lombardy    admin     1354196   \n",
            "2   Naples  40.8333  14.2500   Italy   IT   Campania    admin      913462   \n",
            "3    Turin  45.0792   7.6761   Italy   IT   Piedmont    admin      841600   \n",
            "4  Palermo  38.1111  13.3517   Italy   IT    Sicilia    admin      630167   \n",
            "\n",
            "   population_proper  \n",
            "0            2748109  \n",
            "1            1354196  \n",
            "2             913462  \n",
            "3             841600  \n",
            "4             630167  \n"
          ]
        }
      ]
    },
    {
      "cell_type": "code",
      "source": [
        "#randomly sample the cities with replacement to add it to the pharmaceutical sales data\n",
        "sampled_cities = it_cities.sample(n=len(data), replace=True).reset_index(drop=True)\n",
        "result_df = pd.concat([data.reset_index(drop=True), sampled_cities.reset_index(drop=True)], axis=1)\n",
        "print(result_df.head())"
      ],
      "metadata": {
        "colab": {
          "base_uri": "https://localhost:8080/"
        },
        "id": "BcWVS3RBjQGH",
        "outputId": "ecc6b537-34a0-4bcf-ac0c-33d4a786190f"
      },
      "execution_count": 14,
      "outputs": [
        {
          "output_type": "stream",
          "name": "stdout",
          "text": [
            "      datum  M01AB  M01AE  N02BA  N02BE  N05B  N05C   R03  R06  Year  ...  \\\n",
            "0  1/2/2014    0.0   3.67    3.4  32.40   7.0   0.0   0.0  2.0  2014  ...   \n",
            "1  1/3/2014    8.0   4.00    4.4  50.60  16.0   0.0  20.0  4.0  2014  ...   \n",
            "2  1/4/2014    2.0   1.00    6.5  61.85  10.0   0.0   9.0  1.0  2014  ...   \n",
            "3  1/5/2014    4.0   3.00    7.0  41.10   8.0   0.0   3.0  0.0  2014  ...   \n",
            "4  1/6/2014    5.0   1.00    4.5  21.70  16.0   2.0   6.0  2.0  2014  ...   \n",
            "\n",
            "   Weekday Name                city      lat      lng  country  iso2  \\\n",
            "0      Thursday       Torre di Faro  38.2592  15.6425    Italy    IT   \n",
            "1        Friday       Reggio Emilia  44.7000  10.6333    Italy    IT   \n",
            "2      Saturday              Merine  40.3325  18.2261    Italy    IT   \n",
            "3        Sunday    Torre Annunziata  40.7500  14.4500    Italy    IT   \n",
            "4        Monday  San Mauro Torinese  45.1000   7.7667    Italy    IT   \n",
            "\n",
            "       admin_name capital population population_proper  \n",
            "0             NaN     NaN       2500              2500  \n",
            "1  Emilia-Romagna   minor     169545            169545  \n",
            "2          Puglia     NaN       4785              4785  \n",
            "3        Campania     NaN      40153             40153  \n",
            "4        Piedmont     NaN      18581             18581  \n",
            "\n",
            "[5 rows x 22 columns]\n"
          ]
        }
      ]
    },
    {
      "cell_type": "code",
      "source": [
        "#preprocessing: treating null values\n",
        "null_values = result_df.isnull().sum()\n",
        "print(null_values[null_values > 0])"
      ],
      "metadata": {
        "colab": {
          "base_uri": "https://localhost:8080/"
        },
        "id": "VVf5SsjDmNLo",
        "outputId": "32c5d0da-01d6-4d2e-8ab6-f348ce4d05aa"
      },
      "execution_count": 30,
      "outputs": [
        {
          "output_type": "stream",
          "name": "stdout",
          "text": [
            "capital    1705\n",
            "dtype: int64\n"
          ]
        }
      ]
    },
    {
      "cell_type": "code",
      "source": [
        "#Torre di Faro non ha assegnato nessuna regione\n",
        "result_df[result_df['admin_name'].isnull()]['city'].unique()\n",
        "#ma è in Sicilia quindi gliel'assegno\n",
        "result_df['admin_name'] = result_df['admin_name'].fillna('Sicilia')"
      ],
      "metadata": {
        "colab": {
          "base_uri": "https://localhost:8080/"
        },
        "id": "2U9Re0NIi5b1",
        "outputId": "1c1e7bd3-3868-4943-db15-98e47b69edcb"
      },
      "execution_count": 28,
      "outputs": [
        {
          "output_type": "execute_result",
          "data": {
            "text/plain": [
              "array(['Torre di Faro'], dtype=object)"
            ]
          },
          "metadata": {},
          "execution_count": 28
        }
      ]
    },
    {
      "cell_type": "code",
      "source": [
        "# we won't use the capital\n",
        "print(result_df['capital'].isnull().sum()/len(result_df))\n",
        "print(result_df['capital'].unique()) #we won't really use it so we can drop it\n",
        "result_df.drop(columns = ['capital'], inplace=True)"
      ],
      "metadata": {
        "colab": {
          "base_uri": "https://localhost:8080/"
        },
        "id": "ixW6fM56mhyM",
        "outputId": "9871d40a-528d-4478-cf8e-47e31d9f43a7"
      },
      "execution_count": 37,
      "outputs": [
        {
          "output_type": "stream",
          "name": "stdout",
          "text": [
            "0.8095916429249762\n",
            "[nan 'minor' 'admin' 'primary']\n"
          ]
        }
      ]
    },
    {
      "cell_type": "code",
      "source": [
        "#I see the population and population_proper columns and they seem to have the same value\n",
        "#so I check when the two differ\n",
        "test_df = result_df[result_df['population']!=result_df['population_proper']]\n",
        "print(len(test_df)/len(result_df))\n",
        "#they are different a very marginal proportion of the dataset so I drop the population_proper column"
      ],
      "metadata": {
        "colab": {
          "base_uri": "https://localhost:8080/"
        },
        "id": "SK_ZFSwxng6q",
        "outputId": "4a47c5d6-fe99-41c2-8af9-7305c20834a3"
      },
      "execution_count": 41,
      "outputs": [
        {
          "output_type": "stream",
          "name": "stdout",
          "text": [
            "0.0033238366571699905\n"
          ]
        }
      ]
    },
    {
      "cell_type": "code",
      "source": [
        "result_df.drop(columns = ['population_proper'], inplace=True)"
      ],
      "metadata": {
        "id": "p7kkG2O6oaXc"
      },
      "execution_count": 42,
      "outputs": []
    },
    {
      "cell_type": "code",
      "source": [
        "result_df.columns"
      ],
      "metadata": {
        "colab": {
          "base_uri": "https://localhost:8080/"
        },
        "id": "8BtUa_lJqbDr",
        "outputId": "8ca3e697-1113-4a57-c74b-e6a77fd67e67"
      },
      "execution_count": 50,
      "outputs": [
        {
          "output_type": "execute_result",
          "data": {
            "text/plain": [
              "Index(['datum', 'M01AB', 'M01AE', 'N02BA', 'N02BE', 'N05B', 'N05C', 'R03',\n",
              "       'R06', 'Year', 'Month', 'Hour', 'Weekday Name', 'city', 'lat', 'lng',\n",
              "       'country', 'iso2', 'admin_name', 'population'],\n",
              "      dtype='object')"
            ]
          },
          "metadata": {},
          "execution_count": 50
        }
      ]
    },
    {
      "cell_type": "code",
      "source": [
        "#unpivot the product and the unit sold (melting the dataframe)\n",
        "\n",
        "# columns to keep as identifiers\n",
        "id_vars = [\"datum\", \"Year\", \"Month\", \"Hour\", \"Weekday Name\", \"city\", \"lat\", \"lng\", \"country\", \"iso2\", \"admin_name\", \"population\"]\n",
        "\n",
        "# columns to unpivot\n",
        "value_vars = [\"M01AB\", \"M01AE\", \"N02BA\", \"N02BE\", \"N05B\", \"N05C\", \"R03\", \"R06\"]\n",
        "\n",
        "# melt the DataFrame\n",
        "melted_df = pd.melt(result_df, id_vars=id_vars, value_vars=value_vars, var_name=\"product\", value_name=\"unit_sold\")\n",
        "\n",
        "# Display the resulting DataFrame\n",
        "print(melted_df)\n"
      ],
      "metadata": {
        "colab": {
          "base_uri": "https://localhost:8080/"
        },
        "id": "0rEbN_YKpjb6",
        "outputId": "2ad8b264-d738-4b99-8e3e-54804b2ca833"
      },
      "execution_count": 51,
      "outputs": [
        {
          "output_type": "stream",
          "name": "stdout",
          "text": [
            "           datum  Year  Month  Hour Weekday Name                 city  \\\n",
            "0       1/2/2014  2014      1   248     Thursday        Torre di Faro   \n",
            "1       1/3/2014  2014      1   276       Friday        Reggio Emilia   \n",
            "2       1/4/2014  2014      1   276     Saturday               Merine   \n",
            "3       1/5/2014  2014      1   276       Sunday     Torre Annunziata   \n",
            "4       1/6/2014  2014      1   276       Monday   San Mauro Torinese   \n",
            "...          ...   ...    ...   ...          ...                  ...   \n",
            "16843  10/4/2019  2019     10   276       Friday  Cavenago di Brianza   \n",
            "16844  10/5/2019  2019     10   276     Saturday    Mugnano di Napoli   \n",
            "16845  10/6/2019  2019     10   276       Sunday                Cantù   \n",
            "16846  10/7/2019  2019     10   276       Monday             Cagliari   \n",
            "16847  10/8/2019  2019     10   190      Tuesday             Nerviano   \n",
            "\n",
            "           lat      lng country iso2      admin_name  population product  \\\n",
            "0      38.2592  15.6425   Italy   IT         Sicilia        2500   M01AB   \n",
            "1      44.7000  10.6333   Italy   IT  Emilia-Romagna      169545   M01AB   \n",
            "2      40.3325  18.2261   Italy   IT          Puglia        4785   M01AB   \n",
            "3      40.7500  14.4500   Italy   IT        Campania       40153   M01AB   \n",
            "4      45.1000   7.7667   Italy   IT        Piedmont       18581   M01AB   \n",
            "...        ...      ...     ...  ...             ...         ...     ...   \n",
            "16843  45.5833   9.4167   Italy   IT        Lombardy        7392     R06   \n",
            "16844  40.9167  14.2000   Italy   IT        Campania       34607     R06   \n",
            "16845  45.7333   9.1333   Italy   IT        Lombardy       39715     R06   \n",
            "16846  39.2278   9.1111   Italy   IT        Sardegna      148117     R06   \n",
            "16847  45.5500   8.9833   Italy   IT        Lombardy       16864     R06   \n",
            "\n",
            "       unit_sold  \n",
            "0           0.00  \n",
            "1           8.00  \n",
            "2           2.00  \n",
            "3           4.00  \n",
            "4           5.00  \n",
            "...          ...  \n",
            "16843       1.00  \n",
            "16844       0.33  \n",
            "16845       4.20  \n",
            "16846       1.00  \n",
            "16847       0.00  \n",
            "\n",
            "[16848 rows x 14 columns]\n"
          ]
        }
      ]
    },
    {
      "cell_type": "code",
      "source": [
        "# add hypothetycal price, cost and margin for each product\n",
        "\n",
        "# hypothetical info with product price, cost and margins\n",
        "product_info = {\n",
        "    \"product\": [\"M01AB\", \"M01AE\", \"N02BA\", \"N02BE\", \"N05B\", \"N05C\", \"R03\", \"R06\"],\n",
        "    \"price\": [12, 14, 10, 16, 18, 15, 20, 22],\n",
        "    \"cost\": [9, 10, 7, 12, 14, 12, 16, 17],\n",
        "    \"margin\": [3, 4, 3, 4, 4, 3, 4, 5]\n",
        "}\n",
        "product_info_df = pd.DataFrame(product_info)\n",
        "\n",
        "#add the info to the main df\n",
        "merged_df = pd.merge(melted_df, product_info_df, on=\"product\", how = \"left\")\n",
        "print(merged_df)"
      ],
      "metadata": {
        "colab": {
          "base_uri": "https://localhost:8080/"
        },
        "id": "cCff1KqJrOwc",
        "outputId": "f6f2b965-1af1-484b-8e4f-e04fc377a827"
      },
      "execution_count": 54,
      "outputs": [
        {
          "output_type": "stream",
          "name": "stdout",
          "text": [
            "           datum  Year  Month  Hour Weekday Name                 city  \\\n",
            "0       1/2/2014  2014      1   248     Thursday        Torre di Faro   \n",
            "1       1/3/2014  2014      1   276       Friday        Reggio Emilia   \n",
            "2       1/4/2014  2014      1   276     Saturday               Merine   \n",
            "3       1/5/2014  2014      1   276       Sunday     Torre Annunziata   \n",
            "4       1/6/2014  2014      1   276       Monday   San Mauro Torinese   \n",
            "...          ...   ...    ...   ...          ...                  ...   \n",
            "16843  10/4/2019  2019     10   276       Friday  Cavenago di Brianza   \n",
            "16844  10/5/2019  2019     10   276     Saturday    Mugnano di Napoli   \n",
            "16845  10/6/2019  2019     10   276       Sunday                Cantù   \n",
            "16846  10/7/2019  2019     10   276       Monday             Cagliari   \n",
            "16847  10/8/2019  2019     10   190      Tuesday             Nerviano   \n",
            "\n",
            "           lat      lng country iso2      admin_name  population product  \\\n",
            "0      38.2592  15.6425   Italy   IT         Sicilia        2500   M01AB   \n",
            "1      44.7000  10.6333   Italy   IT  Emilia-Romagna      169545   M01AB   \n",
            "2      40.3325  18.2261   Italy   IT          Puglia        4785   M01AB   \n",
            "3      40.7500  14.4500   Italy   IT        Campania       40153   M01AB   \n",
            "4      45.1000   7.7667   Italy   IT        Piedmont       18581   M01AB   \n",
            "...        ...      ...     ...  ...             ...         ...     ...   \n",
            "16843  45.5833   9.4167   Italy   IT        Lombardy        7392     R06   \n",
            "16844  40.9167  14.2000   Italy   IT        Campania       34607     R06   \n",
            "16845  45.7333   9.1333   Italy   IT        Lombardy       39715     R06   \n",
            "16846  39.2278   9.1111   Italy   IT        Sardegna      148117     R06   \n",
            "16847  45.5500   8.9833   Italy   IT        Lombardy       16864     R06   \n",
            "\n",
            "       unit_sold  price  cost  margin  \n",
            "0           0.00     12     9       3  \n",
            "1           8.00     12     9       3  \n",
            "2           2.00     12     9       3  \n",
            "3           4.00     12     9       3  \n",
            "4           5.00     12     9       3  \n",
            "...          ...    ...   ...     ...  \n",
            "16843       1.00     22    17       5  \n",
            "16844       0.33     22    17       5  \n",
            "16845       4.20     22    17       5  \n",
            "16846       1.00     22    17       5  \n",
            "16847       0.00     22    17       5  \n",
            "\n",
            "[16848 rows x 17 columns]\n"
          ]
        }
      ]
    },
    {
      "cell_type": "code",
      "source": [
        "merged_df['product'][16843].startswith('R')"
      ],
      "metadata": {
        "colab": {
          "base_uri": "https://localhost:8080/"
        },
        "id": "u9TIdRL4uRWD",
        "outputId": "b84a0ec3-fca0-4b9e-a19e-fe301e49d659"
      },
      "execution_count": 61,
      "outputs": [
        {
          "output_type": "execute_result",
          "data": {
            "text/plain": [
              "True"
            ]
          },
          "metadata": {},
          "execution_count": 61
        }
      ]
    },
    {
      "cell_type": "code",
      "source": [
        "#group the pharmaceutical brand name into organizational areas eventually (keep the dataset transactional)\n",
        "# M01AB  M01AE = general medicine\n",
        "# N02BE  N05B  N05C = neurology\n",
        "# R03  R06 = rare diseases\n",
        "\n",
        "# Define the add_division function\n",
        "def add_division(product):\n",
        "    if product.startswith('M'):\n",
        "        return 'General Medicine'\n",
        "    elif product.startswith('N'):\n",
        "        return 'Neurology'\n",
        "    elif product.startswith('R'):\n",
        "        return 'Rare Diseases'\n",
        "    else:\n",
        "        return \"ValueError: product not among available ones\"\n",
        "\n",
        "# Apply the add_division function to add the 'division' column\n",
        "merged_df['division'] = merged_df['product'].apply(add_division)\n",
        "print(merged_df)"
      ],
      "metadata": {
        "colab": {
          "base_uri": "https://localhost:8080/"
        },
        "id": "V8KKmUaks-fb",
        "outputId": "7307844b-7c87-4838-f2b7-57fa3cdb0a8e"
      },
      "execution_count": 62,
      "outputs": [
        {
          "output_type": "stream",
          "name": "stdout",
          "text": [
            "           datum  Year  Month  Hour Weekday Name                 city  \\\n",
            "0       1/2/2014  2014      1   248     Thursday        Torre di Faro   \n",
            "1       1/3/2014  2014      1   276       Friday        Reggio Emilia   \n",
            "2       1/4/2014  2014      1   276     Saturday               Merine   \n",
            "3       1/5/2014  2014      1   276       Sunday     Torre Annunziata   \n",
            "4       1/6/2014  2014      1   276       Monday   San Mauro Torinese   \n",
            "...          ...   ...    ...   ...          ...                  ...   \n",
            "16843  10/4/2019  2019     10   276       Friday  Cavenago di Brianza   \n",
            "16844  10/5/2019  2019     10   276     Saturday    Mugnano di Napoli   \n",
            "16845  10/6/2019  2019     10   276       Sunday                Cantù   \n",
            "16846  10/7/2019  2019     10   276       Monday             Cagliari   \n",
            "16847  10/8/2019  2019     10   190      Tuesday             Nerviano   \n",
            "\n",
            "           lat      lng country iso2      admin_name  population product  \\\n",
            "0      38.2592  15.6425   Italy   IT         Sicilia        2500   M01AB   \n",
            "1      44.7000  10.6333   Italy   IT  Emilia-Romagna      169545   M01AB   \n",
            "2      40.3325  18.2261   Italy   IT          Puglia        4785   M01AB   \n",
            "3      40.7500  14.4500   Italy   IT        Campania       40153   M01AB   \n",
            "4      45.1000   7.7667   Italy   IT        Piedmont       18581   M01AB   \n",
            "...        ...      ...     ...  ...             ...         ...     ...   \n",
            "16843  45.5833   9.4167   Italy   IT        Lombardy        7392     R06   \n",
            "16844  40.9167  14.2000   Italy   IT        Campania       34607     R06   \n",
            "16845  45.7333   9.1333   Italy   IT        Lombardy       39715     R06   \n",
            "16846  39.2278   9.1111   Italy   IT        Sardegna      148117     R06   \n",
            "16847  45.5500   8.9833   Italy   IT        Lombardy       16864     R06   \n",
            "\n",
            "       unit_sold  price  cost  margin          division  \n",
            "0           0.00     12     9       3  General Medicine  \n",
            "1           8.00     12     9       3  General Medicine  \n",
            "2           2.00     12     9       3  General Medicine  \n",
            "3           4.00     12     9       3  General Medicine  \n",
            "4           5.00     12     9       3  General Medicine  \n",
            "...          ...    ...   ...     ...               ...  \n",
            "16843       1.00     22    17       5     Rare Diseases  \n",
            "16844       0.33     22    17       5     Rare Diseases  \n",
            "16845       4.20     22    17       5     Rare Diseases  \n",
            "16846       1.00     22    17       5     Rare Diseases  \n",
            "16847       0.00     22    17       5     Rare Diseases  \n",
            "\n",
            "[16848 rows x 18 columns]\n"
          ]
        }
      ]
    },
    {
      "cell_type": "code",
      "source": [
        "# Save the final DataFrame to a CSV file in Google Drive\n",
        "output_path = '/content/drive/My Drive/pharma_sales/sales_augmented.csv'\n",
        "merged_df.to_csv(output_path, index=False)"
      ],
      "metadata": {
        "id": "8przm8RWpC2q"
      },
      "execution_count": 64,
      "outputs": []
    },
    {
      "cell_type": "code",
      "source": [
        "merged_df.columns"
      ],
      "metadata": {
        "colab": {
          "base_uri": "https://localhost:8080/"
        },
        "id": "rjS7M9IMvEkw",
        "outputId": "01078b29-1081-4a04-ad06-0c65004417ee"
      },
      "execution_count": 65,
      "outputs": [
        {
          "output_type": "execute_result",
          "data": {
            "text/plain": [
              "Index(['datum', 'Year', 'Month', 'Hour', 'Weekday Name', 'city', 'lat', 'lng',\n",
              "       'country', 'iso2', 'admin_name', 'population', 'product', 'unit_sold',\n",
              "       'price', 'cost', 'margin', 'division'],\n",
              "      dtype='object')"
            ]
          },
          "metadata": {},
          "execution_count": 65
        }
      ]
    },
    {
      "cell_type": "markdown",
      "source": [],
      "metadata": {
        "id": "lTz8HYjjdfRJ"
      }
    }
  ]
}